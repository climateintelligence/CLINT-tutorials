{
 "cells": [
  {
   "cell_type": "markdown",
   "id": "a8d823b5-5599-4406-8cd9-58784a1bae60",
   "metadata": {},
   "source": [
    "# Hawk WPS\n",
    "\n",
    "The Hawk WPS designed to perform causal analysis for climate data or, in general, for time-series.\n",
    "\n",
    "* GitHub repo: https://github.com/climateintelligence/hawk\n",
    "* Docs: https://clint-hawk.readthedocs.io/en/latest/"
   ]
  },
  {
   "cell_type": "code",
   "execution_count": 1,
   "id": "572a0c7b-1375-4b41-aae3-4cf61428f95b",
   "metadata": {},
   "outputs": [],
   "source": [
    "from birdy import WPSClient\n"
   ]
  },
  {
   "cell_type": "code",
   "execution_count": 2,
   "id": "adf8713d-1d97-4942-9b60-981ef379665f",
   "metadata": {
    "scrolled": true
   },
   "outputs": [],
   "source": [
    "# connect to hawk WPS\n",
    "\n",
    "url = \"https://hawk1.cloud.dkrz.de/wps\"\n",
    "wps = WPSClient(url, verify=False)"
   ]
  },
  {
   "cell_type": "code",
   "execution_count": 3,
   "id": "36033b1e-e672-45f8-9f88-9aa77abf6325",
   "metadata": {
    "scrolled": true
   },
   "outputs": [
    {
     "name": "stdout",
     "output_type": "stream",
     "text": [
      "Help on WPSClient in module birdy.client.base:\n",
      "\n",
      "<birdy.client.base.WPSClient object>\n",
      "    Causal analysis for climate data.\n",
      "\n",
      "    Processes\n",
      "    ---------\n",
      "\n",
      "    causal\n",
      "        Performs a causal analysis with multiple configurations, returning outputs plots and pkl file.\n",
      "\n"
     ]
    }
   ],
   "source": [
    "# show available processes\n",
    "\n",
    "help(wps)"
   ]
  },
  {
   "cell_type": "code",
   "execution_count": 4,
   "id": "d063413e-6b45-4fcf-baca-c0e318877cfc",
   "metadata": {},
   "outputs": [
    {
     "name": "stdout",
     "output_type": "stream",
     "text": [
      "Help on method causal in module birdy.client.base:\n",
      "\n",
      "causal(dataset_train=None, dataset_test=None, target_column_name='target', pcmci_test_choice='ParCorr', pcmci_max_lag='1', tefs_direction='both', tefs_use_contemporary_features=True, tefs_max_lag_features='1', tefs_max_lag_target='1') method of birdy.client.base.WPSClient instance\n",
      "    Performs a causal analysis with multiple configurations, returning outputs plots and pkl file.\n",
      "\n",
      "    Parameters\n",
      "    ----------\n",
      "    dataset_train : ComplexData:mimetype:`text/csv`\n",
      "        Please add the train csv file here.\n",
      "    dataset_test : ComplexData:mimetype:`text/csv`\n",
      "        Please add the test csv file here.\n",
      "    target_column_name : string\n",
      "        Please enter the case-specific name of the target variable in the dataframe.\n",
      "    pcmci_test_choice : {'ParCorr', 'CMIknn'}string\n",
      "        Choose the independence test to be used in PCMCI.\n",
      "    pcmci_max_lag : {'0', '1', '2', '3', '4', '5'}string\n",
      "        Choose the maximum lag to test used in PCMCI.\n",
      "    tefs_direction : {'forward', 'backward', 'both'}string\n",
      "        Choose the direction of the TEFS algorithm.\n",
      "    tefs_use_contemporary_features : boolean\n",
      "        Choose whether to use contemporary features in the TEFS algorithm.\n",
      "    tefs_max_lag_features : {'no_lag', '1', '2', '3', '4', '5'}string\n",
      "        Choose the maximum lag of the features in the TEFS algorithm.\n",
      "    tefs_max_lag_target : {'1', '2', '3', '4', '5'}string\n",
      "        Choose the maximum lag of the target in the TEFS algorithm.\n",
      "\n",
      "    Returns\n",
      "    -------\n",
      "    pkl_baseline : ComplexData:mimetype:`application/octet-stream`\n",
      "        The baseline scores on the initial data.\n",
      "    plot_pcmci : ComplexData:mimetype:`application/pdf`\n",
      "        The selected features by PCMCI.\n",
      "    plot_pcmci_preview : ComplexData:mimetype:`image/png`\n",
      "        The selected features by PCMCI.\n",
      "    pkl_pcmci : ComplexData:mimetype:`application/octet-stream`\n",
      "        The PCMCI results details.\n",
      "    plot_tefs : ComplexData:mimetype:`application/pdf`\n",
      "        The selected features by TEFS.\n",
      "    plot_tefs_preview : ComplexData:mimetype:`image/png`\n",
      "        The selected features by TEFS.\n",
      "    pkl_tefs : ComplexData:mimetype:`application/octet-stream`\n",
      "        The TEFS results.\n",
      "    plot_tefs_wrapper : ComplexData:mimetype:`application/pdf`\n",
      "        The wrapper scores evolution by TEFS.\n",
      "    plot_tefs_wrapper_preview : ComplexData:mimetype:`image/png`\n",
      "        The wrapper scores evolution by TEFS.\n",
      "    pkl_tefs_wrapper : ComplexData:mimetype:`application/octet-stream`\n",
      "        The TEFS wrapper scores evolution details.\n",
      "\n"
     ]
    }
   ],
   "source": [
    "# show details of causal process\n",
    "\n",
    "help(wps.causal)"
   ]
  },
  {
   "cell_type": "code",
   "execution_count": 5,
   "id": "c5419eca-ac01-43ed-b54b-861f4232b69d",
   "metadata": {},
   "outputs": [
    {
     "data": {
      "text/plain": [
       "'ProcessSucceeded'"
      ]
     },
     "execution_count": 5,
     "metadata": {},
     "output_type": "execute_result"
    }
   ],
   "source": [
    "# run causal\n",
    "\n",
    "dataset_train = \"https://raw.githubusercontent.com/climateintelligence/hawk/main/hawk/demo/Ticino_train.csv\"\n",
    "dataset_test = \"https://raw.githubusercontent.com/climateintelligence/hawk/main/hawk/demo/Ticino_test.csv\"\n",
    "\n",
    "resp = wps.causal(\n",
    "    dataset_train=dataset_train,\n",
    "    dataset_test=dataset_test,\n",
    ")\n",
    "resp.status"
   ]
  },
  {
   "cell_type": "code",
   "execution_count": 6,
   "id": "acff9333-dc73-4d7b-9dd3-36326da48ddd",
   "metadata": {},
   "outputs": [
    {
     "data": {
      "text/plain": [
       "causalResponse(\n",
       "    pkl_baseline='https://hawk1.cloud.dkrz.de:443/outputs/hawk/3c2f6cb0-3303-11ef-aff9-fa163e129b63/baseline.pkl',\n",
       "    plot_pcmci='https://hawk1.cloud.dkrz.de:443/outputs/hawk/3c2f6cb0-3303-11ef-aff9-fa163e129b63/feature_presence_pcmci.pdf',\n",
       "    plot_pcmci_preview='https://hawk1.cloud.dkrz.de:443/outputs/hawk/3c2f6cb0-3303-11ef-aff9-fa163e129b63/feature_presence_pcmci.png',\n",
       "    pkl_pcmci='https://hawk1.cloud.dkrz.de:443/outputs/hawk/3c2f6cb0-3303-11ef-aff9-fa163e129b63/results_details_pcmci.pkl',\n",
       "    plot_tefs='https://hawk1.cloud.dkrz.de:443/outputs/hawk/3c2f6cb0-3303-11ef-aff9-fa163e129b63/feature_presence_tefs.pdf',\n",
       "    plot_tefs_preview='https://hawk1.cloud.dkrz.de:443/outputs/hawk/3c2f6cb0-3303-11ef-aff9-fa163e129b63/feature_presence_tefs.png',\n",
       "    pkl_tefs='https://hawk1.cloud.dkrz.de:443/outputs/hawk/3c2f6cb0-3303-11ef-aff9-fa163e129b63/results_details_te.pkl',\n",
       "    plot_tefs_wrapper='https://hawk1.cloud.dkrz.de:443/outputs/hawk/3c2f6cb0-3303-11ef-aff9-fa163e129b63/wrapper.pdf',\n",
       "    plot_tefs_wrapper_preview='https://hawk1.cloud.dkrz.de:443/outputs/hawk/3c2f6cb0-3303-11ef-aff9-fa163e129b63/wrapper.png',\n",
       "    pkl_tefs_wrapper='https://hawk1.cloud.dkrz.de:443/outputs/hawk/3c2f6cb0-3303-11ef-aff9-fa163e129b63/results_details_tefs_wrapper.pkl'\n",
       ")"
      ]
     },
     "execution_count": 6,
     "metadata": {},
     "output_type": "execute_result"
    }
   ],
   "source": [
    "resp.get()"
   ]
  }
 ],
 "metadata": {
  "kernelspec": {
   "display_name": "Python 3 (ipykernel)",
   "language": "python",
   "name": "python3"
  },
  "language_info": {
   "codemirror_mode": {
    "name": "ipython",
    "version": 3
   },
   "file_extension": ".py",
   "mimetype": "text/x-python",
   "name": "python",
   "nbconvert_exporter": "python",
   "pygments_lexer": "ipython3",
   "version": "3.12.3"
  }
 },
 "nbformat": 4,
 "nbformat_minor": 5
}
