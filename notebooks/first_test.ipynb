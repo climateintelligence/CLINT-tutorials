{
 "cells": [
  {
   "cell_type": "code",
   "execution_count": 1,
   "id": "572a0c7b-1375-4b41-aae3-4cf61428f95b",
   "metadata": {},
   "outputs": [
    {
     "name": "stderr",
     "output_type": "stream",
     "text": [
      "pyproj not installed\n"
     ]
    }
   ],
   "source": [
    "import numpy as np\n",
    "import pandas as pd\n",
    "from birdy import WPSClient\n",
    "from keras import models"
   ]
  },
  {
   "cell_type": "code",
   "execution_count": 2,
   "id": "630ce3f7-9ab7-484d-82a2-f0c4e5a277c1",
   "metadata": {
    "scrolled": true
   },
   "outputs": [
    {
     "name": "stdout",
     "output_type": "stream",
     "text": [
      "Help on WPSClient in module birdy.client.base:\n",
      "\n",
      "<birdy.client.base.WPSClient object>\n",
      "    A WPS for forecasting ctropical-cyclone activities.\n",
      "    \n",
      "    Processes\n",
      "    ---------\n",
      "    \n",
      "    hello\n",
      "        Just says a friendly Hello.Returns a literal string output with Hello plus the inputed name.\n",
      "    \n",
      "    cyclone\n",
      "        A process to forecast tropical cyclone activities.\n",
      "\n"
     ]
    }
   ],
   "source": [
    "url = \"http://localhost:5000/wps\"\n",
    "wps = WPSClient(url, verify=False)\n",
    "help(wps)"
   ]
  },
  {
   "cell_type": "code",
   "execution_count": 3,
   "id": "cafc00e2-76c9-403a-8a4f-8c930c5f955a",
   "metadata": {
    "tags": []
   },
   "outputs": [
    {
     "name": "stdout",
     "output_type": "stream",
     "text": [
      "<birdy.client.utils.WPSExecution object at 0x15656c610>\n"
     ]
    },
    {
     "data": {
      "text/plain": [
       "helloResponse(\n",
       "    output='Hello Pluto'\n",
       ")"
      ]
     },
     "execution_count": 3,
     "metadata": {},
     "output_type": "execute_result"
    }
   ],
   "source": [
    "resp = wps.hello(name=\"Pluto\")\n",
    "print(resp)\n",
    "resp.get()"
   ]
  },
  {
   "cell_type": "code",
   "execution_count": 5,
   "id": "c5419eca-ac01-43ed-b54b-861f4232b69d",
   "metadata": {},
   "outputs": [
    {
     "name": "stdout",
     "output_type": "stream",
     "text": [
      "<birdy.client.utils.WPSExecution object at 0x15656cb20>\n"
     ]
    },
    {
     "data": {
      "text/plain": [
       "cycloneResponse(\n",
       "    output_csv='../shearwater/data/prediction_Sindian.csv'\n",
       ")"
      ]
     },
     "execution_count": 5,
     "metadata": {},
     "output_type": "execute_result"
    }
   ],
   "source": [
    "resp = wps.cyclone(start_day=\"2019-01-04\", end_day=\"2019-01-05\", area=\"Sindian\")\n",
    "print(resp)\n",
    "resp.get()"
   ]
  },
  {
   "cell_type": "code",
   "execution_count": null,
   "id": "c69328d3-9f92-4f42-a4e9-c07efa00d39c",
   "metadata": {},
   "outputs": [],
   "source": []
  }
 ],
 "metadata": {
  "kernelspec": {
   "display_name": "Python 3.9 (tensorflow)",
   "language": "python",
   "name": "tensorflow"
  },
  "language_info": {
   "codemirror_mode": {
    "name": "ipython",
    "version": 3
   },
   "file_extension": ".py",
   "mimetype": "text/x-python",
   "name": "python",
   "nbconvert_exporter": "python",
   "pygments_lexer": "ipython3",
   "version": "3.9.13"
  }
 },
 "nbformat": 4,
 "nbformat_minor": 5
}
