{
 "cells": [
  {
   "cell_type": "markdown",
   "id": "a8d823b5-5599-4406-8cd9-58784a1bae60",
   "metadata": {},
   "source": [
    "# Owl WPS\n",
    "\n",
    "The Owl WPS is a climate resiliance application package for heatwave magnitude index and warm nights\n",
    "\n",
    "* GitHub https://github.com/climateintelligence/owl\n",
    "* Docs: https://clint-owl.readthedocs.io/en/latest/"
   ]
  },
  {
   "cell_type": "code",
   "execution_count": null,
   "id": "572a0c7b-1375-4b41-aae3-4cf61428f95b",
   "metadata": {},
   "outputs": [],
   "source": [
    "from birdy import WPSClient\n"
   ]
  },
  {
   "cell_type": "code",
   "execution_count": null,
   "id": "adf8713d-1d97-4942-9b60-981ef379665f",
   "metadata": {
    "scrolled": true
   },
   "outputs": [],
   "source": [
    "# connect to Owl WPS\n",
    "\n",
    "url = \"http://owl1.cloud.dkrz.de/wps\"\n",
    "wps = WPSClient(url, verify=False)"
   ]
  },
  {
   "cell_type": "code",
   "execution_count": null,
   "id": "36033b1e-e672-45f8-9f88-9aa77abf6325",
   "metadata": {
    "scrolled": true
   },
   "outputs": [],
   "source": [
    "# show available processes\n",
    "\n",
    "help(wps)"
   ]
  },
  {
   "cell_type": "code",
   "execution_count": null,
   "id": "d063413e-6b45-4fcf-baca-c0e318877cfc",
   "metadata": {},
   "outputs": [],
   "source": [
    "# show details of hws_detection process\n",
    "\n",
    "help(wps.hws_detection)"
   ]
  },
  {
   "cell_type": "code",
   "execution_count": null,
   "id": "c5419eca-ac01-43ed-b54b-861f4232b69d",
   "metadata": {},
   "outputs": [],
   "source": [
    "# run hws_detection\n",
    "\n",
    "dataset = \"https://nextcloud.dkrz.de/s/r2rwgGDxejq35iz/download\"\n",
    "\n",
    "resp = wps.hws_detection(\n",
    "    dataset=dataset\n",
    ")\n",
    "resp.status"
   ]
  }
 ],
 "metadata": {
  "kernelspec": {
   "display_name": "Python 3 (ipykernel)",
   "language": "python",
   "name": "python3"
  },
  "language_info": {
   "codemirror_mode": {
    "name": "ipython",
    "version": 3
   },
   "file_extension": ".py",
   "mimetype": "text/x-python",
   "name": "python",
   "nbconvert_exporter": "python",
   "pygments_lexer": "ipython3",
   "version": "3.12.3"
  }
 },
 "nbformat": 4,
 "nbformat_minor": 5
}
