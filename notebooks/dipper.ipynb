{
 "cells": [
  {
   "cell_type": "markdown",
   "id": "a8d823b5-5599-4406-8cd9-58784a1bae60",
   "metadata": {},
   "source": [
    "# Dipper WPS\n",
    "\n",
    "The Dipper WPS is application package that produces data files and maps on flood warning level forecasts in Europe on a seasonal scale.\n",
    "\n",
    "* GitHub https://github.com/climateintelligence/dipper\n",
    "* Docs: https://clint-dipper.readthedocs.io/en/latest/"
   ]
  },
  {
   "cell_type": "code",
   "execution_count": 1,
   "id": "572a0c7b-1375-4b41-aae3-4cf61428f95b",
   "metadata": {},
   "outputs": [],
   "source": [
    "from birdy import WPSClient\n"
   ]
  },
  {
   "cell_type": "code",
   "execution_count": 2,
   "id": "adf8713d-1d97-4942-9b60-981ef379665f",
   "metadata": {
    "scrolled": true
   },
   "outputs": [],
   "source": [
    "# connect to Dipper WPS\n",
    "\n",
    "url = \"http://dipper1.cloud.dkrz.de/wps\"\n",
    "wps = WPSClient(url, verify=False)"
   ]
  },
  {
   "cell_type": "code",
   "execution_count": 3,
   "id": "36033b1e-e672-45f8-9f88-9aa77abf6325",
   "metadata": {
    "scrolled": true
   },
   "outputs": [
    {
     "name": "stdout",
     "output_type": "stream",
     "text": [
      "Help on WPSClient in module birdy.client.base:\n",
      "\n",
      "<birdy.client.base.WPSClient object>\n",
      "    A Web Processing Service for Climate Data Analysis of Flood risks.\n",
      "\n",
      "    Processes\n",
      "    ---------\n",
      "\n",
      "    floodforecast\n",
      "        abstract comming soon, line 1abstract comming soon, line 2\n",
      "\n"
     ]
    }
   ],
   "source": [
    "# show available processes\n",
    "\n",
    "help(wps)"
   ]
  },
  {
   "cell_type": "code",
   "execution_count": 5,
   "id": "d063413e-6b45-4fcf-baca-c0e318877cfc",
   "metadata": {},
   "outputs": [
    {
     "name": "stdout",
     "output_type": "stream",
     "text": [
      "Help on method floodforecast in module birdy.client.base:\n",
      "\n",
      "floodforecast(dataset=None, variable='COUT', warninglvls='all') method of birdy.client.base.WPSClient instance\n",
      "    abstract comming soon, line 1abstract comming soon, line 2\n",
      "\n",
      "    Parameters\n",
      "    ----------\n",
      "    dataset : ComplexData:mimetype:`application/x-netcdf`, :mimetype:`application/zip`\n",
      "        Enter a URL pointing to a NetCDF file with variables for flood forecast.\n",
      "    variable : string\n",
      "        Please enter the netcdf variable to use.\n",
      "    warninglvls : {'low', 'medium', 'high', 'all'}string\n",
      "        Choose Warning levels to plot\n",
      "\n",
      "    Returns\n",
      "    -------\n",
      "    netcdf : ComplexData:mimetype:`application/x-netcdf`\n",
      "        netCDF containing a Flood forecast ... and more description\n",
      "    log : ComplexData:mimetype:`text/plain`\n",
      "        textfile containing logging information of process performance\n",
      "    warning_plot : ComplexData:mimetype:`image/png`\n",
      "        Graphical visualisation of the Flood forecast per week\n",
      "    timing_plot_2 : ComplexData:mimetype:`image/png`\n",
      "        Graphical visualisation of the Flood forecast timing\n",
      "\n"
     ]
    }
   ],
   "source": [
    "# show details of floodforecast process\n",
    "\n",
    "help(wps.floodforecast)"
   ]
  },
  {
   "cell_type": "code",
   "execution_count": 6,
   "id": "c5419eca-ac01-43ed-b54b-861f4232b69d",
   "metadata": {},
   "outputs": [
    {
     "data": {
      "text/plain": [
       "'Exception'"
      ]
     },
     "execution_count": 6,
     "metadata": {},
     "output_type": "execute_result"
    }
   ],
   "source": [
    "# run floodforecast\n",
    "\n",
    "resp = wps.floodforecast()\n",
    "resp.status"
   ]
  },
  {
   "cell_type": "code",
   "execution_count": null,
   "id": "6e1794ba-07ee-4ca1-8e88-a85d97ae7f90",
   "metadata": {},
   "outputs": [],
   "source": []
  }
 ],
 "metadata": {
  "kernelspec": {
   "display_name": "Python 3 (ipykernel)",
   "language": "python",
   "name": "python3"
  },
  "language_info": {
   "codemirror_mode": {
    "name": "ipython",
    "version": 3
   },
   "file_extension": ".py",
   "mimetype": "text/x-python",
   "name": "python",
   "nbconvert_exporter": "python",
   "pygments_lexer": "ipython3",
   "version": "3.12.3"
  }
 },
 "nbformat": 4,
 "nbformat_minor": 5
}
