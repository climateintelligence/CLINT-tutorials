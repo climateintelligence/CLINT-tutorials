{
 "cells": [
  {
   "cell_type": "markdown",
   "id": "a8d823b5-5599-4406-8cd9-58784a1bae60",
   "metadata": {},
   "source": [
    "# Shearwater WPS\n",
    "\n",
    "The Shearwater WPS is designed to perform detection and forecast of tropical-cyclone activities.\n",
    "\n",
    "* GitHUB repo: https://github.com/climateintelligence/shearwater\n",
    "* Docs: https://shearwater.readthedocs.io/en/latest/"
   ]
  },
  {
   "cell_type": "code",
   "execution_count": null,
   "id": "572a0c7b-1375-4b41-aae3-4cf61428f95b",
   "metadata": {},
   "outputs": [],
   "source": [
    "from birdy import WPSClient\n"
   ]
  },
  {
   "cell_type": "code",
   "execution_count": null,
   "id": "630ce3f7-9ab7-484d-82a2-f0c4e5a277c1",
   "metadata": {
    "scrolled": true
   },
   "outputs": [],
   "source": [
    "url = \"http://shearwater.dkrz.de/wps\"\n",
    "wps = WPSClient(url, verify=False)\n",
    "help(wps)"
   ]
  },
  {
   "cell_type": "code",
   "execution_count": null,
   "id": "c5419eca-ac01-43ed-b54b-861f4232b69d",
   "metadata": {},
   "outputs": [],
   "source": [
    "resp = wps.cyclone(start_day=\"2019-01-04\", end_day=\"2019-01-05\", area=\"Sindian\")\n",
    "print(resp)\n",
    "resp.get()"
   ]
  }
 ],
 "metadata": {
  "kernelspec": {
   "display_name": "Python 3 (ipykernel)",
   "language": "python",
   "name": "python3"
  },
  "language_info": {
   "codemirror_mode": {
    "name": "ipython",
    "version": 3
   },
   "file_extension": ".py",
   "mimetype": "text/x-python",
   "name": "python",
   "nbconvert_exporter": "python",
   "pygments_lexer": "ipython3",
   "version": "3.12.3"
  }
 },
 "nbformat": 4,
 "nbformat_minor": 5
}
