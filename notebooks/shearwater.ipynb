{
 "cells": [
  {
   "cell_type": "markdown",
   "id": "a8d823b5-5599-4406-8cd9-58784a1bae60",
   "metadata": {},
   "source": [
    "# Shearwater WPS\n",
    "\n",
    "The Shearwater WPS is designed to perform detection and forecast of tropical-cyclone activities.\n",
    "\n",
    "* GitHUB repo: https://github.com/climateintelligence/shearwater\n",
    "* Docs: https://shearwater.readthedocs.io/en/latest/"
   ]
  },
  {
   "cell_type": "code",
   "execution_count": 1,
   "id": "572a0c7b-1375-4b41-aae3-4cf61428f95b",
   "metadata": {},
   "outputs": [],
   "source": [
    "from birdy import WPSClient\n"
   ]
  },
  {
   "cell_type": "code",
   "execution_count": 2,
   "id": "adf8713d-1d97-4942-9b60-981ef379665f",
   "metadata": {
    "scrolled": true
   },
   "outputs": [],
   "source": [
    "# connect to shearwater WPS\n",
    "\n",
    "url = \"https://shearwater1.cloud.dkrz.de/wps\"\n",
    "wps = WPSClient(url, verify=False)"
   ]
  },
  {
   "cell_type": "code",
   "execution_count": 3,
   "id": "36033b1e-e672-45f8-9f88-9aa77abf6325",
   "metadata": {
    "scrolled": true
   },
   "outputs": [
    {
     "name": "stdout",
     "output_type": "stream",
     "text": [
      "Help on WPSClient in module birdy.client.base:\n",
      "\n",
      "<birdy.client.base.WPSClient object>\n",
      "    A WPS for forecasting ctropical-cyclone activities.\n",
      "\n",
      "    Processes\n",
      "    ---------\n",
      "\n",
      "    cyclone\n",
      "        A process to forecast tropical cyclone activities.\n",
      "\n"
     ]
    }
   ],
   "source": [
    "# show available processes\n",
    "\n",
    "help(wps)"
   ]
  },
  {
   "cell_type": "code",
   "execution_count": 4,
   "id": "d063413e-6b45-4fcf-baca-c0e318877cfc",
   "metadata": {},
   "outputs": [
    {
     "name": "stdout",
     "output_type": "stream",
     "text": [
      "Help on method cyclone in module birdy.client.base:\n",
      "\n",
      "cyclone(start_day='2022-01-01', end_day='2022-01-31', area='Sindian') method of birdy.client.base.WPSClient instance\n",
      "    A process to forecast tropical cyclone activities.\n",
      "\n",
      "    Parameters\n",
      "    ----------\n",
      "    start_day : string\n",
      "        Enter the start date, like 2021-01-01\n",
      "    end_day : string\n",
      "        Enter the end date, like 2023-10-12\n",
      "    area : {'Sindian', 'TBD'}string\n",
      "        Choose the region of your interest\n",
      "\n",
      "    Returns\n",
      "    -------\n",
      "    output_csv : ComplexData:mimetype:`text/csv`\n",
      "        csv file\n",
      "\n"
     ]
    }
   ],
   "source": [
    "# show details of cyclone process\n",
    "\n",
    "help(wps.cyclone)"
   ]
  },
  {
   "cell_type": "code",
   "execution_count": 5,
   "id": "c5419eca-ac01-43ed-b54b-861f4232b69d",
   "metadata": {},
   "outputs": [
    {
     "data": {
      "text/plain": [
       "'ProcessSucceeded'"
      ]
     },
     "execution_count": 5,
     "metadata": {},
     "output_type": "execute_result"
    }
   ],
   "source": [
    "# run cyclone\n",
    "\n",
    "resp = wps.cyclone(start_day=\"2019-01-04\", end_day=\"2019-01-05\", area=\"Sindian\")\n",
    "resp.status"
   ]
  },
  {
   "cell_type": "code",
   "execution_count": 6,
   "id": "09dea9b9-6319-45ee-ba65-1c49e262f582",
   "metadata": {},
   "outputs": [
    {
     "data": {
      "text/plain": [
       "cycloneResponse(\n",
       "    output_csv='https://shearwater1.cloud.dkrz.de:443/outputs/shearwater/05a290fe-3304-11ef-b198-fa163e86d05a/prediction_Sindian.csv'\n",
       ")"
      ]
     },
     "execution_count": 6,
     "metadata": {},
     "output_type": "execute_result"
    }
   ],
   "source": [
    "# show all outputs\n",
    "\n",
    "resp.get()"
   ]
  },
  {
   "cell_type": "code",
   "execution_count": 7,
   "id": "65657950-0b6f-45f6-b83f-fa93935cf7b0",
   "metadata": {},
   "outputs": [
    {
     "data": {
      "text/html": [
       "<div>\n",
       "<style scoped>\n",
       "    .dataframe tbody tr th:only-of-type {\n",
       "        vertical-align: middle;\n",
       "    }\n",
       "\n",
       "    .dataframe tbody tr th {\n",
       "        vertical-align: top;\n",
       "    }\n",
       "\n",
       "    .dataframe thead th {\n",
       "        text-align: right;\n",
       "    }\n",
       "</style>\n",
       "<table border=\"1\" class=\"dataframe\">\n",
       "  <thead>\n",
       "    <tr style=\"text-align: right;\">\n",
       "      <th></th>\n",
       "      <th>Unnamed: 0</th>\n",
       "      <th>latitude</th>\n",
       "      <th>longitude</th>\n",
       "      <th>time</th>\n",
       "      <th>predictions_lag0</th>\n",
       "    </tr>\n",
       "  </thead>\n",
       "  <tbody>\n",
       "    <tr>\n",
       "      <th>0</th>\n",
       "      <td>380016</td>\n",
       "      <td>0.0</td>\n",
       "      <td>20.0</td>\n",
       "      <td>2019-01-04</td>\n",
       "      <td>0.000010</td>\n",
       "    </tr>\n",
       "    <tr>\n",
       "      <th>1</th>\n",
       "      <td>380017</td>\n",
       "      <td>0.0</td>\n",
       "      <td>22.5</td>\n",
       "      <td>2019-01-04</td>\n",
       "      <td>0.000006</td>\n",
       "    </tr>\n",
       "    <tr>\n",
       "      <th>2</th>\n",
       "      <td>380018</td>\n",
       "      <td>0.0</td>\n",
       "      <td>25.0</td>\n",
       "      <td>2019-01-04</td>\n",
       "      <td>0.000008</td>\n",
       "    </tr>\n",
       "    <tr>\n",
       "      <th>3</th>\n",
       "      <td>380019</td>\n",
       "      <td>0.0</td>\n",
       "      <td>27.5</td>\n",
       "      <td>2019-01-04</td>\n",
       "      <td>0.000014</td>\n",
       "    </tr>\n",
       "    <tr>\n",
       "      <th>4</th>\n",
       "      <td>380020</td>\n",
       "      <td>0.0</td>\n",
       "      <td>30.0</td>\n",
       "      <td>2019-01-04</td>\n",
       "      <td>0.000015</td>\n",
       "    </tr>\n",
       "    <tr>\n",
       "      <th>...</th>\n",
       "      <td>...</td>\n",
       "      <td>...</td>\n",
       "      <td>...</td>\n",
       "      <td>...</td>\n",
       "      <td>...</td>\n",
       "    </tr>\n",
       "    <tr>\n",
       "      <th>749</th>\n",
       "      <td>380765</td>\n",
       "      <td>-30.0</td>\n",
       "      <td>80.0</td>\n",
       "      <td>2019-01-05</td>\n",
       "      <td>0.000099</td>\n",
       "    </tr>\n",
       "    <tr>\n",
       "      <th>750</th>\n",
       "      <td>380766</td>\n",
       "      <td>-30.0</td>\n",
       "      <td>82.5</td>\n",
       "      <td>2019-01-05</td>\n",
       "      <td>0.000047</td>\n",
       "    </tr>\n",
       "    <tr>\n",
       "      <th>751</th>\n",
       "      <td>380767</td>\n",
       "      <td>-30.0</td>\n",
       "      <td>85.0</td>\n",
       "      <td>2019-01-05</td>\n",
       "      <td>0.000020</td>\n",
       "    </tr>\n",
       "    <tr>\n",
       "      <th>752</th>\n",
       "      <td>380768</td>\n",
       "      <td>-30.0</td>\n",
       "      <td>87.5</td>\n",
       "      <td>2019-01-05</td>\n",
       "      <td>0.000020</td>\n",
       "    </tr>\n",
       "    <tr>\n",
       "      <th>753</th>\n",
       "      <td>380769</td>\n",
       "      <td>-30.0</td>\n",
       "      <td>90.0</td>\n",
       "      <td>2019-01-05</td>\n",
       "      <td>0.000053</td>\n",
       "    </tr>\n",
       "  </tbody>\n",
       "</table>\n",
       "<p>754 rows × 5 columns</p>\n",
       "</div>"
      ],
      "text/plain": [
       "     Unnamed: 0  latitude  longitude        time  predictions_lag0\n",
       "0        380016       0.0       20.0  2019-01-04          0.000010\n",
       "1        380017       0.0       22.5  2019-01-04          0.000006\n",
       "2        380018       0.0       25.0  2019-01-04          0.000008\n",
       "3        380019       0.0       27.5  2019-01-04          0.000014\n",
       "4        380020       0.0       30.0  2019-01-04          0.000015\n",
       "..          ...       ...        ...         ...               ...\n",
       "749      380765     -30.0       80.0  2019-01-05          0.000099\n",
       "750      380766     -30.0       82.5  2019-01-05          0.000047\n",
       "751      380767     -30.0       85.0  2019-01-05          0.000020\n",
       "752      380768     -30.0       87.5  2019-01-05          0.000020\n",
       "753      380769     -30.0       90.0  2019-01-05          0.000053\n",
       "\n",
       "[754 rows x 5 columns]"
      ]
     },
     "execution_count": 7,
     "metadata": {},
     "output_type": "execute_result"
    }
   ],
   "source": [
    "# show the result with pandas\n",
    "\n",
    "import pandas as pd\n",
    "\n",
    "result_url = resp.get()[0]\n",
    "\n",
    "df = pd.read_csv(result_url)\n",
    "df"
   ]
  }
 ],
 "metadata": {
  "kernelspec": {
   "display_name": "Python 3 (ipykernel)",
   "language": "python",
   "name": "python3"
  },
  "language_info": {
   "codemirror_mode": {
    "name": "ipython",
    "version": 3
   },
   "file_extension": ".py",
   "mimetype": "text/x-python",
   "name": "python",
   "nbconvert_exporter": "python",
   "pygments_lexer": "ipython3",
   "version": "3.12.3"
  }
 },
 "nbformat": 4,
 "nbformat_minor": 5
}
