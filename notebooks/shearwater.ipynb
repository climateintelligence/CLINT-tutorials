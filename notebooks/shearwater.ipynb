{
 "cells": [
  {
   "cell_type": "markdown",
   "id": "a8d823b5-5599-4406-8cd9-58784a1bae60",
   "metadata": {},
   "source": [
    "# Shearwater WPS\n",
    "\n",
    "The Shearwater WPS is designed to perform detection and forecast of tropical-cyclone activities.\n",
    "\n",
    "* GitHUB repo: https://github.com/climateintelligence/shearwater\n",
    "* Docs: https://shearwater.readthedocs.io/en/latest/"
   ]
  },
  {
   "cell_type": "code",
   "execution_count": null,
   "id": "572a0c7b-1375-4b41-aae3-4cf61428f95b",
   "metadata": {},
   "outputs": [],
   "source": [
    "from birdy import WPSClient\n"
   ]
  },
  {
   "cell_type": "code",
   "execution_count": null,
   "id": "adf8713d-1d97-4942-9b60-981ef379665f",
   "metadata": {
    "scrolled": true
   },
   "outputs": [],
   "source": [
    "# connect to shearwater WPS\n",
    "\n",
    "url = \"http://shearwater.dkrz.de/wps\"\n",
    "wps = WPSClient(url, verify=False)"
   ]
  },
  {
   "cell_type": "code",
   "execution_count": null,
   "id": "36033b1e-e672-45f8-9f88-9aa77abf6325",
   "metadata": {
    "scrolled": true
   },
   "outputs": [],
   "source": [
    "# show available processes\n",
    "\n",
    "help(wps)"
   ]
  },
  {
   "cell_type": "code",
   "execution_count": null,
   "id": "d063413e-6b45-4fcf-baca-c0e318877cfc",
   "metadata": {},
   "outputs": [],
   "source": [
    "# show details of cyclone process\n",
    "\n",
    "help(wps.cyclone)"
   ]
  },
  {
   "cell_type": "code",
   "execution_count": null,
   "id": "c5419eca-ac01-43ed-b54b-861f4232b69d",
   "metadata": {},
   "outputs": [],
   "source": [
    "# run cyclone\n",
    "\n",
    "resp = wps.cyclone(start_day=\"2019-01-04\", end_day=\"2019-01-05\", area=\"Sindian\")\n",
    "resp.status"
   ]
  }
 ],
 "metadata": {
  "kernelspec": {
   "display_name": "Python 3 (ipykernel)",
   "language": "python",
   "name": "python3"
  },
  "language_info": {
   "codemirror_mode": {
    "name": "ipython",
    "version": 3
   },
   "file_extension": ".py",
   "mimetype": "text/x-python",
   "name": "python",
   "nbconvert_exporter": "python",
   "pygments_lexer": "ipython3",
   "version": "3.12.3"
  }
 },
 "nbformat": 4,
 "nbformat_minor": 5
}
