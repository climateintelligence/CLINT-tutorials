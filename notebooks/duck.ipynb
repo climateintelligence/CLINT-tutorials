{
 "cells": [
  {
   "cell_type": "markdown",
   "id": "bc6a83c6-0281-4d46-a373-7f95fe2752e1",
   "metadata": {},
   "source": [
    "# CRAI service demo on smart duck\n",
    "\n",
    "Using the Duck service:\n",
    "https://github.com/climateintelligence/duck\n",
    "\n",
    "Infilling with trained AI model for climate data (HadCRUT) done with CRAI:\n",
    "https://github.com/FREVA-CLINT/climatereconstructionAI/tree/clint\n",
    "\n",
    "Model is trained for HadCRUT data:\n",
    "* https://www.metoffice.gov.uk/hadobs/hadcrut5/\n",
    "* https://www.metoffice.gov.uk/hadobs/hadcrut4/index.html\n",
    "\n",
    "Running on smartduck VM:\n",
    "smartduck.cloud.dkrz.de\n",
    "\n",
    "You can also use the Phoenix WebApp:\n",
    "https://clint.dkrz.de/\n"
   ]
  },
  {
   "cell_type": "markdown",
   "id": "10b5b04e-7bc9-44d9-8cbc-6e3e1fae9694",
   "metadata": {},
   "source": [
    "## Using the birdy client to access the duck service\n",
    "https://github.com/bird-house/birdy"
   ]
  },
  {
   "cell_type": "code",
   "execution_count": null,
   "id": "28faf3d0-16ae-46c2-b01f-aeaed1fe941f",
   "metadata": {},
   "outputs": [],
   "source": [
    "from birdy import WPSClient\n",
    "url = \"https://smartduck.dkrz.de/wps\"\n",
    "\n",
    "wps = WPSClient(url, verify=False, progress=False)\n",
    "help(wps)"
   ]
  },
  {
   "cell_type": "code",
   "execution_count": null,
   "id": "86278e10-6fb5-4492-9a1f-17fe1a71c5ff",
   "metadata": {},
   "outputs": [],
   "source": [
    "help(wps.crai)"
   ]
  },
  {
   "cell_type": "code",
   "execution_count": null,
   "id": "0e7f6c24-4998-44f7-95df-a7261ca3b607",
   "metadata": {},
   "outputs": [],
   "source": [
    "HadCRUT5 = \"https://www.metoffice.gov.uk/hadobs/hadcrut5/data/HadCRUT.5.0.2.0/non-infilled/HadCRUT.5.0.2.0.anomalies.ensemble_mean.nc\"\n",
    "HadCRUT4 = \"https://www.metoffice.gov.uk/hadobs/hadcrut4/data/current/gridded_fields/HadCRUT.4.6.0.0.median_netcdf.zip\"\n"
   ]
  },
  {
   "cell_type": "code",
   "execution_count": null,
   "id": "e9ef6df3-60f2-4b6b-b5cc-d968bab10682",
   "metadata": {},
   "outputs": [],
   "source": [
    "resp = wps.crai(\n",
    "    file=HadCRUT5, \n",
    "    dataset_name=\"HadCRUT5\",\n",
    "    variable_name=\"tas_mean\"\n",
    ")\n",
    "resp.status"
   ]
  },
  {
   "cell_type": "code",
   "execution_count": null,
   "id": "6b140c61-997c-4f82-8da2-3865b99c2d3a",
   "metadata": {},
   "outputs": [],
   "source": [
    "resp.get()\n"
   ]
  },
  {
   "cell_type": "code",
   "execution_count": null,
   "id": "be12327a-9cad-4471-8b64-dd8ca7217dd4",
   "metadata": {},
   "outputs": [],
   "source": [
    "resp.get(asobj=True, ssl_verify=False)[0]"
   ]
  },
  {
   "cell_type": "code",
   "execution_count": null,
   "id": "3424ce60-8158-4ce5-9204-95467133e512",
   "metadata": {},
   "outputs": [],
   "source": [
    "ds.tas.isel(time=0).plot()"
   ]
  }
 ],
 "metadata": {
  "kernelspec": {
   "display_name": "Python 3 (ipykernel)",
   "language": "python",
   "name": "python3"
  },
  "language_info": {
   "codemirror_mode": {
    "name": "ipython",
    "version": 3
   },
   "file_extension": ".py",
   "mimetype": "text/x-python",
   "name": "python",
   "nbconvert_exporter": "python",
   "pygments_lexer": "ipython3",
   "version": "3.12.3"
  }
 },
 "nbformat": 4,
 "nbformat_minor": 5
}
