{
 "cells": [
  {
   "cell_type": "markdown",
   "id": "bc6a83c6-0281-4d46-a373-7f95fe2752e1",
   "metadata": {},
   "source": [
    "# CRAI service demo on smart duck\n",
    "\n",
    "Using the Duck service:\n",
    "https://github.com/climateintelligence/duck\n",
    "\n",
    "Infilling with trained AI model for climate data (HadCRUT) done with CRAI:\n",
    "https://github.com/FREVA-CLINT/climatereconstructionAI/tree/clint\n",
    "\n",
    "Model is trained for HadCRUT data:\n",
    "* https://www.metoffice.gov.uk/hadobs/hadcrut5/\n",
    "* https://www.metoffice.gov.uk/hadobs/hadcrut4/index.html\n",
    "\n",
    "Running on smartduck VM:\n",
    "smartduck.cloud.dkrz.de\n",
    "\n",
    "You can also use the Phoenix WebApp:\n",
    "https://clint.dkrz.de/\n"
   ]
  },
  {
   "cell_type": "markdown",
   "id": "10b5b04e-7bc9-44d9-8cbc-6e3e1fae9694",
   "metadata": {},
   "source": [
    "## Using the birdy client to access the duck service\n",
    "https://github.com/bird-house/birdy"
   ]
  },
  {
   "cell_type": "code",
   "execution_count": null,
   "id": "d27d0590-5967-47d4-b750-ee2369bc74a3",
   "metadata": {},
   "outputs": [],
   "source": [
    "from birdy import WPSClient\n",
    "\n",
    "url = \"https://smartduck.dkrz.de/wps\"\n",
    "\n",
    "wps = WPSClient(url, verify=False)"
   ]
  },
  {
   "cell_type": "code",
   "execution_count": null,
   "id": "8099fd64-f181-44db-ad20-da7ee67b509e",
   "metadata": {},
   "outputs": [],
   "source": [
    "# show available processes\n",
    "help(wps)"
   ]
  },
  {
   "cell_type": "code",
   "execution_count": null,
   "id": "86278e10-6fb5-4492-9a1f-17fe1a71c5ff",
   "metadata": {},
   "outputs": [],
   "source": [
    "# show details of crai infilling process\n",
    "help(wps.crai)"
   ]
  },
  {
   "cell_type": "markdown",
   "id": "fc8bc59a-64f4-4ab6-9950-2ca3c7b63143",
   "metadata": {},
   "source": [
    "## Run HadCRUT5 infilling"
   ]
  },
  {
   "cell_type": "code",
   "execution_count": null,
   "id": "e9ef6df3-60f2-4b6b-b5cc-d968bab10682",
   "metadata": {},
   "outputs": [],
   "source": [
    "HadCRUT5 = \"https://www.metoffice.gov.uk/hadobs/hadcrut5/data/HadCRUT.5.0.2.0/non-infilled/HadCRUT.5.0.2.0.anomalies.ensemble_mean.nc\"\n",
    "\n",
    "resp = wps.crai(\n",
    "    file=HadCRUT5, \n",
    "    dataset_name=\"HadCRUT5\",\n",
    "    variable_name=\"tas_mean\"\n",
    ")\n",
    "resp.status"
   ]
  },
  {
   "cell_type": "code",
   "execution_count": null,
   "id": "6b140c61-997c-4f82-8da2-3865b99c2d3a",
   "metadata": {},
   "outputs": [],
   "source": [
    "# show all outputs\n",
    "resp.get()\n"
   ]
  },
  {
   "cell_type": "code",
   "execution_count": null,
   "id": "485a43c8-658a-4416-82d2-4be08f95e91c",
   "metadata": {},
   "outputs": [],
   "source": [
    "# show plot\n",
    "resp.get()[1]"
   ]
  },
  {
   "cell_type": "markdown",
   "id": "82a8c748-528a-40c3-a26e-33c374919d08",
   "metadata": {},
   "source": [
    "## Run HadCRUT4 infilling"
   ]
  },
  {
   "cell_type": "code",
   "execution_count": null,
   "id": "85fc17e2-be27-4296-9113-cc667fc2bb91",
   "metadata": {},
   "outputs": [],
   "source": [
    "HadCRUT4 = \"https://www.metoffice.gov.uk/hadobs/hadcrut4/data/current/gridded_fields/HadCRUT.4.6.0.0.median_netcdf.zip\"\n",
    "\n",
    "resp = wps.crai(\n",
    "    file=HadCRUT4, \n",
    "    dataset_name=\"HadCRUT4\",\n",
    "    variable_name=\"temperature_anomaly\"\n",
    ")\n",
    "resp.status"
   ]
  },
  {
   "cell_type": "code",
   "execution_count": null,
   "id": "52b850a6-e9ab-44a2-81a5-780de249a81a",
   "metadata": {},
   "outputs": [],
   "source": [
    "# show all outputs\n",
    "resp.get()"
   ]
  },
  {
   "cell_type": "code",
   "execution_count": null,
   "id": "c982a1cb-f669-42a5-a976-6f3769acb1a3",
   "metadata": {},
   "outputs": [],
   "source": [
    "# show plot\n",
    "resp.get()[1]"
   ]
  }
 ],
 "metadata": {
  "kernelspec": {
   "display_name": "Python 3 (ipykernel)",
   "language": "python",
   "name": "python3"
  },
  "language_info": {
   "codemirror_mode": {
    "name": "ipython",
    "version": 3
   },
   "file_extension": ".py",
   "mimetype": "text/x-python",
   "name": "python",
   "nbconvert_exporter": "python",
   "pygments_lexer": "ipython3",
   "version": "3.12.3"
  }
 },
 "nbformat": 4,
 "nbformat_minor": 5
}
