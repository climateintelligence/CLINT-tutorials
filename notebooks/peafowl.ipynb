{
 "cells": [
  {
   "cell_type": "markdown",
   "id": "7c152f73-ee8d-445c-93c8-167c7d64f85c",
   "metadata": {},
   "source": [
    "# Peafowl: show map requests"
   ]
  },
  {
   "cell_type": "code",
   "execution_count": null,
   "id": "1978cd0f-04d2-44b3-a9e8-6bc7567f218b",
   "metadata": {},
   "outputs": [],
   "source": [
    "from owslib.wms import WebMapService\n",
    "from owslib.util import Authentication"
   ]
  },
  {
   "cell_type": "code",
   "execution_count": null,
   "id": "ec8dbc39-d688-4853-91d2-6876250b0a98",
   "metadata": {},
   "outputs": [],
   "source": [
    "auth = Authentication(verify=False)"
   ]
  },
  {
   "cell_type": "code",
   "execution_count": null,
   "id": "07be81ed-0021-45b5-8654-695824c419c4",
   "metadata": {},
   "outputs": [],
   "source": [
    "wms = WebMapService(\n",
    "    'https://peafowl1.cloud.dkrz.de//adagucserver?source=tas_Amon_MPI-ESM1-2-LR_historical_r1i1p1f1_gn_185001-186912.nc&&service=WMS&request=GetCapabilities', \n",
    "    auth=auth\n",
    ")"
   ]
  },
  {
   "cell_type": "code",
   "execution_count": null,
   "id": "2ab3b584-75e4-430c-9ac4-d80c9f52c4f3",
   "metadata": {},
   "outputs": [],
   "source": [
    "# GetMap (image/jpeg)\n",
    "response = wms.getmap(\n",
    "    layers=['tas'],\n",
    "    srs='EPSG:4326',\n",
    "    bbox=(-180,-90,180,90),\n",
    "    size=(500,500),\n",
    "    format='image/jpeg')"
   ]
  },
  {
   "cell_type": "code",
   "execution_count": null,
   "id": "d1530ee8-0a45-4864-976b-17ad194d8e9e",
   "metadata": {},
   "outputs": [],
   "source": [
    "out = open('getmap-response.jpeg', 'wb')\n",
    "out.write(response.read())\n",
    "out.close()"
   ]
  }
 ],
 "metadata": {
  "kernelspec": {
   "display_name": "Python 3 (ipykernel)",
   "language": "python",
   "name": "python3"
  },
  "language_info": {
   "codemirror_mode": {
    "name": "ipython",
    "version": 3
   },
   "file_extension": ".py",
   "mimetype": "text/x-python",
   "name": "python",
   "nbconvert_exporter": "python",
   "pygments_lexer": "ipython3",
   "version": "3.12.3"
  }
 },
 "nbformat": 4,
 "nbformat_minor": 5
}
