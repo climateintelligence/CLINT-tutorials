{
 "cells": [
  {
   "cell_type": "markdown",
   "id": "7c152f73-ee8d-445c-93c8-167c7d64f85c",
   "metadata": {},
   "source": [
    "# Peafowl: show map requests\n",
    "\n",
    "We are using the adaguc implementation of the OGC WebMapping interface by KNMI:\n",
    "https://github.com/KNMI/adaguc-server\n",
    "\n",
    "It has in addition a web-client to explore the available maps/datasets:\n",
    "https://peafowl1.cloud.dkrz.de/\n",
    "\n",
    "Check the `autowms` folder, select a netcdf dataset and click on the preview image below the autowms view.\n",
    "\n"
   ]
  },
  {
   "cell_type": "markdown",
   "id": "dc39f798-6636-4795-a869-49bf2093dd3f",
   "metadata": {},
   "source": [
    "## Run a getMap request using OWSLib"
   ]
  },
  {
   "cell_type": "code",
   "execution_count": 1,
   "id": "1978cd0f-04d2-44b3-a9e8-6bc7567f218b",
   "metadata": {},
   "outputs": [],
   "source": [
    "from owslib.wms import WebMapService\n",
    "from owslib.util import Authentication"
   ]
  },
  {
   "cell_type": "code",
   "execution_count": 2,
   "id": "ec8dbc39-d688-4853-91d2-6876250b0a98",
   "metadata": {},
   "outputs": [],
   "source": [
    "auth = Authentication(verify=False)"
   ]
  },
  {
   "cell_type": "code",
   "execution_count": 3,
   "id": "07be81ed-0021-45b5-8654-695824c419c4",
   "metadata": {},
   "outputs": [
    {
     "name": "stderr",
     "output_type": "stream",
     "text": [
      "/Users/pingu/miniconda3/envs/clint-demo/lib/python3.12/site-packages/urllib3/connectionpool.py:1103: InsecureRequestWarning: Unverified HTTPS request is being made to host 'peafowl1.cloud.dkrz.de'. Adding certificate verification is strongly advised. See: https://urllib3.readthedocs.io/en/latest/advanced-usage.html#tls-warnings\n",
      "  warnings.warn(\n"
     ]
    }
   ],
   "source": [
    "cmip6_tas = \"tas_Amon_MPI-ESM1-2-LR_historical_r1i1p1f1_gn_185001-186912.nc\"\n",
    "url = f\"https://peafowl1.cloud.dkrz.de//adagucserver?source={cmip6_tas}&service=WMS&request=GetCapabilities\"\n",
    "\n",
    "wms = WebMapService(\n",
    "    url,\n",
    "    auth=auth\n",
    ")"
   ]
  },
  {
   "cell_type": "code",
   "execution_count": 4,
   "id": "2ab3b584-75e4-430c-9ac4-d80c9f52c4f3",
   "metadata": {},
   "outputs": [
    {
     "name": "stderr",
     "output_type": "stream",
     "text": [
      "/Users/pingu/miniconda3/envs/clint-demo/lib/python3.12/site-packages/urllib3/connectionpool.py:1103: InsecureRequestWarning: Unverified HTTPS request is being made to host 'peafowl1.cloud.dkrz.de'. Adding certificate verification is strongly advised. See: https://urllib3.readthedocs.io/en/latest/advanced-usage.html#tls-warnings\n",
      "  warnings.warn(\n"
     ]
    }
   ],
   "source": [
    "# GetMap (image/jpeg)\n",
    "response = wms.getmap(\n",
    "    layers=['tas'],\n",
    "    srs='EPSG:4326',\n",
    "    bbox=(-180,-90,180,90),\n",
    "    size=(720,360),\n",
    "    format='image/jpeg')"
   ]
  },
  {
   "cell_type": "code",
   "execution_count": 5,
   "id": "d1530ee8-0a45-4864-976b-17ad194d8e9e",
   "metadata": {},
   "outputs": [],
   "source": [
    "# store the map image\n",
    "out = open('getmap-response.jpeg', 'wb')\n",
    "out.write(response.read())\n",
    "out.close()\n",
    "\n",
    "# ... you can open the file from the current notebook folder"
   ]
  },
  {
   "cell_type": "code",
   "execution_count": 6,
   "id": "5d5f49d9-46c3-4972-9cc3-027b11f0a928",
   "metadata": {},
   "outputs": [
    {
     "data": {
      "image/jpeg": "[encoded data removed]",
      "text/plain": [
       "<IPython.core.display.Image object>"
      ]
     },
     "execution_count": 6,
     "metadata": {},
     "output_type": "execute_result"
    }
   ],
   "source": [
    "# show the map image\n",
    "\n",
    "from IPython.display import Image\n",
    "\n",
    "Image(filename ='getmap-response.jpeg')"
   ]
  }
 ],
 "metadata": {
  "kernelspec": {
   "display_name": "Python 3 (ipykernel)",
   "language": "python",
   "name": "python3"
  },
  "language_info": {
   "codemirror_mode": {
    "name": "ipython",
    "version": 3
   },
   "file_extension": ".py",
   "mimetype": "text/x-python",
   "name": "python",
   "nbconvert_exporter": "python",
   "pygments_lexer": "ipython3",
   "version": "3.12.3"
  }
 },
 "nbformat": 4,
 "nbformat_minor": 5
}
